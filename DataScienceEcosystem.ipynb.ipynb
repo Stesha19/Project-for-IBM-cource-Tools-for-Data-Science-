{
 "cells": [
  {
   "cell_type": "markdown",
   "id": "be13539c-7e2f-4329-a74e-0c512da06c9c",
   "metadata": {},
   "source": [
    "# Інструменти та екосистема даних"
   ]
  },
  {
   "cell_type": "markdown",
   "id": "dcfaf6eb-97df-4d72-8e89-8119d904d5fb",
   "metadata": {},
   "source": [
    "## Автор: Анастасія"
   ]
  },
  {
   "cell_type": "markdown",
   "id": "c65cb382-7118-4d35-8b18-4042d2cb1193",
   "metadata": {},
   "source": [
    "### *У цьому блокноті підсумовані інструменти та екосистема даних*"
   ]
  },
  {
   "cell_type": "markdown",
   "id": "a730ad16-2137-4144-996c-4a82a30f410e",
   "metadata": {},
   "source": [
    "__Цілі__:\n",
    "* перерахувати популярні мови програмування та бібліотеки для науки про данні\n",
    "* розповісти про основні арифметчні дії мови програмування Pyhton\n",
    "* надати перелік інструментів для науки про дані з відкритим кодом"
   ]
  },
  {
   "cell_type": "markdown",
   "id": "b2e2f7bc-35f2-43a6-9c14-638665d9eb48",
   "metadata": {},
   "source": [
    "#### __Деякі з популярних мов, які використовують науковці з даних, це:__\n",
    "1. Pyhton\n",
    "2. Julia\n",
    "3. R\n",
    "4. Java"
   ]
  },
  {
   "cell_type": "markdown",
   "id": "47f51706-7e53-4ec5-972f-c643b356de62",
   "metadata": {},
   "source": [
    "### __Деякі з загальновживаних бібліотек, які використовують науковці з даних, включають:__\n",
    "1. Pandas — для роботи з таблицями, аналізу даних та маніпуляцій з ними.\n",
    "2. NumPy — для чисельних обчислень і роботи з багатовимірними масивами.  \n",
    "3. Matplotlib — для створення базових графіків.\n",
    "4. PyTorch — для гнучкої розробки моделей глибокого навчання"
   ]
  },
  {
   "cell_type": "markdown",
   "id": "8125e7dc-6b55-47d1-8be2-02b2005d21d0",
   "metadata": {},
   "source": [
    "|Інструменти даних |\n",
    "| ------ | \n",
    "| Jupyter Notebook|\n",
    "|Matplotlib | \n",
    "| MySQL | \n"
   ]
  },
  {
   "cell_type": "markdown",
   "id": "f249b20d-0ba4-4311-8259-f510598bb0ce",
   "metadata": {},
   "source": [
    "### Нижче наведено кілька прикладів оцінки арифметичних виразів у Python"
   ]
  },
  {
   "cell_type": "code",
   "execution_count": 4,
   "id": "a343041b-ad0b-484e-9246-fe2eda7b6ddf",
   "metadata": {},
   "outputs": [
    {
     "name": "stdout",
     "output_type": "stream",
     "text": [
      "8\n",
      "6\n",
      "21\n",
      "5.0\n"
     ]
    }
   ],
   "source": [
    "# Додавання\n",
    "result = 5 + 3\n",
    "print(result)  # Виведе: 8\n",
    "\n",
    "# Віднімання\n",
    "result = 10 - 4\n",
    "print(result)  # Виведе: 6\n",
    "\n",
    "# Множення\n",
    "result = 7 * 3\n",
    "print(result)  # Виведе: 21\n",
    "\n",
    "# Ділення\n",
    "result = 20 / 4\n",
    "print(result)  # Виведе: 5.0"
   ]
  },
  {
   "cell_type": "code",
   "execution_count": 7,
   "id": "02fc4d54-4db8-490e-b4eb-217e90c0fd55",
   "metadata": {},
   "outputs": [
    {
     "name": "stdout",
     "output_type": "stream",
     "text": [
      "17\n"
     ]
    }
   ],
   "source": [
    "#Це простий арифметичний вираз для множення, а потім додавання цілих чисел\n",
    "result = (3*4)+5\n",
    "print(result)"
   ]
  },
  {
   "cell_type": "code",
   "execution_count": 8,
   "id": "ec31c0f3-bc77-407f-a9bc-02bd012f000c",
   "metadata": {},
   "outputs": [
    {
     "name": "stdout",
     "output_type": "stream",
     "text": [
      "3.3333333333333335\n"
     ]
    }
   ],
   "source": [
    "#Це перетворить 200 хвилин на години, ділячи на 60\n",
    "minutes = 200\n",
    "hours = minutes / 60\n",
    "print(hours)"
   ]
  },
  {
   "cell_type": "code",
   "execution_count": null,
   "id": "22139de3-485f-4b93-8114-8a8ddb3f32fd",
   "metadata": {},
   "outputs": [],
   "source": []
  }
 ],
 "metadata": {
  "kernelspec": {
   "display_name": "Python 3 (ipykernel)",
   "language": "python",
   "name": "python3"
  },
  "language_info": {
   "codemirror_mode": {
    "name": "ipython",
    "version": 3
   },
   "file_extension": ".py",
   "mimetype": "text/x-python",
   "name": "python",
   "nbconvert_exporter": "python",
   "pygments_lexer": "ipython3",
   "version": "3.11.9"
  }
 },
 "nbformat": 4,
 "nbformat_minor": 5
}
